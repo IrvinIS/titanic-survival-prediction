import pandas as pd
import numpy as np
import matplotlib.pyplot as plt
import seaborn as sns


# Load the dataset
df = pd.read_csv('../data/train.csv')


# Basic info about our dataset
print(f"Dataset shape: {df.shape}")
print(f"Columns: {df.columns.tolist()}")


df.head()


# Get info about data types and missing values
print("Dataset info:")
df.info()


# Look at our target variable (what we want to predict)
print("Survival distribution:")
print(df['Survived'].value_counts())
print(f"\nSurvival rate: {df['Survived'].mean():.2%}")




print("Passenger class distribution:")
pclass_counts = df['Pclass'].value_counts().sort_index()
pclass_props = df['Pclass'].value_counts(normalize=True).sort_index()

for pclass in [1, 2, 3]:
    count = pclass_counts[pclass]
    prop = pclass_props[pclass]
    print(f"Class {pclass}: {count} passengers ({prop:.1%})")


print("\nGender distribution:")
gender_counts = df['Sex'].value_counts()
gender_props = df['Sex'].value_counts(normalize=True)

for gender in ['male', 'female']:
    count = gender_counts[gender]
    prop = gender_props[gender]
    print(f"{gender.capitalize()}: {count} passengers ({prop:.1%})")





# Survival rate by passenger class
print("Survival rate by class:")
survival_by_class = df.groupby('Pclass')['Survived'].agg(['count', 'sum', 'mean'])
survival_by_class.columns = ['Total', 'Survived', 'Survival_Rate']
survival_by_class['Survival_Rate'] = survival_by_class['Survival_Rate'].round(3)
print(survival_by_class)


# Survival rate by gender
print("Survival rate by gender:")
survival_by_gender = df.groupby('Sex')['Survived'].agg(['count', 'sum', 'mean'])
survival_by_gender.columns = ['Total', 'Survived', 'Survival_Rate']
survival_by_gender['Survival_Rate'] = survival_by_gender['Survival_Rate'].round(3)
print(survival_by_gender)


"""
KEY INSIGHTS FROM EXPLORATION:
- Overall survival rate: 38.4%
- Class 1: 63% survival, Class 2: 47%, Class 3: 24%
- Female: 74% survival, Male: 19% survival
- Missing data: Age (177), Cabin (687), Embarked (2)
"""
print("Exploration complete! Key patterns identified.")



